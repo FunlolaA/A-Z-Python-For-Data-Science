{
 "cells": [
  {
   "cell_type": "markdown",
   "metadata": {},
   "source": [
    "## Udemy Course: Python A-Z\n",
    "## Section 3: Project + Solution\n",
    "#### Python Programming A-Z™ © Kirill Eremenko https://www.superdatascience.com _\n",
    "\n",
    "Scenario: You are a Data Scientist working for a consulting firm. One of your colleagues from the Auditing department has asked you to help them assess the financial statement of organisation X.\n",
    "\n",
    "You have been supplied with two vectors of data: monthly revenue and monthly expenses for the financial year in question. Your task is to calculate the following financial metrics:\n",
    "\n",
    "• profit for each month\n",
    "•profit after tax for each month (the tax rate is 30%)\n",
    "profit margin for each month - equals to profit after tax divided by revenue\n",
    "good months - where the profit after tax was greater than the mean for the year\n",
    "bad months - where the profit after tax was less than the mean for the year\n",
    "the best month - where the profit after tax was max for the year\n",
    "the worst month - where the profit after tax was min for the year\n",
    "Note: All results need to be presented as vectors.\n",
    "\n",
    "Results for dollar values need to be calculated with $0.01 precision, but need to be presented in Units of $1,000 (i.e. 1k) with no decimal points.\n",
    "\n",
    "Results for the profit margin ratio need to be presented in units of % with no decimal points.\n",
    "\n",
    "Note: Your colleague has warned you that it is okay for tax for any given month to be negative (in accounting terms, negative tax translates into a deferred tax asset)"
   ]
  },
  {
   "cell_type": "code",
   "execution_count": 17,
   "metadata": {},
   "outputs": [],
   "source": [
    "#Data from the notebook provided\n",
    "revenue = [14574.49, 7606.46, 8611.41, 9175.41, 8058.65, 8105.44, 11496.28, 9766.09, 10305.32, 14379.96, 10713.97, 15433.50]\n",
    "expense = [12051.82, 5695.07, 12319.20, 12089.72, 8658.57, 840.20, 3285.73, 5821.12, 6976.93, 16618.61, 10054.37, 3803.96]\n"
   ]
  },
  {
   "cell_type": "code",
   "execution_count": 18,
   "metadata": {},
   "outputs": [
    {
     "data": {
      "text/plain": [
       "[2522.67,\n",
       " 1911.3900000000003,\n",
       " -3707.790000000001,\n",
       " -2914.3099999999995,\n",
       " -599.9200000000001,\n",
       " 7265.24,\n",
       " 8210.550000000001,\n",
       " 3944.9700000000003,\n",
       " 3328.3899999999994,\n",
       " -2238.6500000000015,\n",
       " 659.5999999999985,\n",
       " 11629.54]"
      ]
     },
     "execution_count": 18,
     "metadata": {},
     "output_type": "execute_result"
    }
   ],
   "source": [
    "#Calculate Profit as the Difference Between Revenue and Expenses\n",
    "profit = list([])\n",
    "\n",
    "for i in range(0, len(revenue)):\n",
    "    profit.append(revenue[i] - expense[i])\n",
    "profit\n",
    "    "
   ]
  },
  {
   "cell_type": "code",
   "execution_count": 24,
   "metadata": {},
   "outputs": [
    {
     "data": {
      "text/plain": [
       "[757, 573, -1112, -874, -180, 2180, 2463, 1183, 999, -672, 198, 3489]"
      ]
     },
     "execution_count": 24,
     "metadata": {},
     "output_type": "execute_result"
    }
   ],
   "source": [
    "#Calculate Tax as 30% of Profit And Round to 2 Decimal Points\n",
    "\n",
    "tax = [round((i * 0.3)) for i in profit]\n",
    "\n",
    "tax"
   ]
  },
  {
   "cell_type": "code",
   "execution_count": 20,
   "metadata": {},
   "outputs": [
    {
     "data": {
      "text/plain": [
       "[1765.67,\n",
       " 1338.3900000000003,\n",
       " -2595.790000000001,\n",
       " -2040.3099999999995,\n",
       " -419.9200000000001,\n",
       " 5085.24,\n",
       " 5747.550000000001,\n",
       " 2761.9700000000003,\n",
       " 2329.3899999999994,\n",
       " -1566.6500000000015,\n",
       " 461.59999999999854,\n",
       " 8140.540000000001]"
      ]
     },
     "execution_count": 20,
     "metadata": {},
     "output_type": "execute_result"
    }
   ],
   "source": [
    "#Calculate Profit Remaining After Tax is Deducted\n",
    "#profit minus tax\n",
    "profit_after_tax = list([])\n",
    "\n",
    "for i in range(0, len(tax)):\n",
    "    profit_after_tax.append(profit[i] - tax[i]) \n",
    "profit_after_tax"
   ]
  },
  {
   "cell_type": "code",
   "execution_count": 25,
   "metadata": {},
   "outputs": [
    {
     "data": {
      "text/plain": [
       "[12.11,\n",
       " 17.6,\n",
       " -30.14,\n",
       " -22.24,\n",
       " -5.21,\n",
       " 62.74,\n",
       " 49.99,\n",
       " 28.28,\n",
       " 22.6,\n",
       " -10.89,\n",
       " 4.31,\n",
       " 52.75]"
      ]
     },
     "execution_count": 25,
     "metadata": {},
     "output_type": "execute_result"
    }
   ],
   "source": [
    "#Calculate Profit Margin As Profit After Tax Divided By Revenue\n",
    "#Round To 2 Decimal Points, Then Multipy By 100 to Get %\n",
    "\n",
    "profit_margin = list([])\n",
    "\n",
    "for i in range(0, len(profit_after_tax)):\n",
    "    profit_margin.append(profit_after_tax[i] / revenue[i])\n",
    "profit_margin\n",
    "\n",
    "profit_margin = [round((i * 100),2) for i in profit_margin]\n",
    "profit_margin"
   ]
  },
  {
   "cell_type": "code",
   "execution_count": 26,
   "metadata": {},
   "outputs": [
    {
     "data": {
      "text/plain": [
       "1750.64"
      ]
     },
     "execution_count": 26,
     "metadata": {},
     "output_type": "execute_result"
    }
   ],
   "source": [
    "#mean of profit after tax for 12 months\n",
    "mean_pat = sum(profit_after_tax) / len(profit_after_tax)\n",
    "mean_pat"
   ]
  },
  {
   "cell_type": "code",
   "execution_count": 27,
   "metadata": {},
   "outputs": [
    {
     "data": {
      "text/plain": [
       "[True, False, False, False, False, True, True, True, True, False, False, True]"
      ]
     },
     "execution_count": 27,
     "metadata": {},
     "output_type": "execute_result"
    }
   ],
   "source": [
    "#good months- where profit after tax is greater than the mean\n",
    "\n",
    "good_months = list([])\n",
    "\n",
    "for i in range(0, len(profit_after_tax)):\n",
    "    good_months.append(profit_after_tax[i] > mean_pat)\n",
    "good_months"
   ]
  },
  {
   "cell_type": "code",
   "execution_count": 28,
   "metadata": {},
   "outputs": [
    {
     "data": {
      "text/plain": [
       "[False, True, True, True, True, False, False, False, False, True, True, False]"
      ]
     },
     "execution_count": 28,
     "metadata": {},
     "output_type": "execute_result"
    }
   ],
   "source": [
    "#bad months- where profit after tax was less than mean\n",
    "\n",
    "bad_months = list([])\n",
    "\n",
    "for i in range (0, len(profit_after_tax)):\n",
    "    bad_months.append(profit_after_tax[i] < mean_pat)\n",
    "bad_months"
   ]
  },
  {
   "cell_type": "code",
   "execution_count": 31,
   "metadata": {},
   "outputs": [
    {
     "data": {
      "text/plain": [
       "[False,\n",
       " False,\n",
       " False,\n",
       " False,\n",
       " False,\n",
       " False,\n",
       " False,\n",
       " False,\n",
       " False,\n",
       " False,\n",
       " False,\n",
       " True]"
      ]
     },
     "execution_count": 31,
     "metadata": {},
     "output_type": "execute_result"
    }
   ],
   "source": [
    "#best month- where the profit after tax was max for the year\n",
    "\n",
    "best_months = list([])\n",
    "\n",
    "for i in range(0, len(profit_after_tax)):\n",
    "    best_months.append(profit_after_tax[i] == max(profit_after_tax))\n",
    "best_months"
   ]
  },
  {
   "cell_type": "code",
   "execution_count": 32,
   "metadata": {},
   "outputs": [
    {
     "data": {
      "text/plain": [
       "[False,\n",
       " False,\n",
       " True,\n",
       " False,\n",
       " False,\n",
       " False,\n",
       " False,\n",
       " False,\n",
       " False,\n",
       " False,\n",
       " False,\n",
       " False]"
      ]
     },
     "execution_count": 32,
     "metadata": {},
     "output_type": "execute_result"
    }
   ],
   "source": [
    "#worst month- where profit after tax is min for the year\n",
    "\n",
    "worst_months = list([])\n",
    "\n",
    "for i in range(0, len(profit_after_tax)):\n",
    "    worst_months.append(profit_after_tax[i] == min(profit_after_tax))\n",
    "worst_months"
   ]
  },
  {
   "cell_type": "code",
   "execution_count": 34,
   "metadata": {},
   "outputs": [],
   "source": [
    "#Convert all Calculations to Units of Thousand Dollars\n",
    "\n",
    "revenue_1000 = [round(i/1000, 2) for i in revenue]\n",
    "expenses_1000 = [round(i/1000, 2)for i in expenses]\n",
    "profit_1000 = [round(i/1000, 2) for i in profit]\n",
    "profit_after_tax_1000 = [round(i/1000, 2) for i in profit_after_tax]\n",
    "\n",
    "revenue_1000 = [int(i) for i in revenue_1000]\n",
    "expenses_1000 = [int(i) for i in expenses_1000]\n",
    "profit_1000 = [int(i) for i in profit_1000]\n",
    "profit_after_tax_1000 = [int(i) for i in profit_after_tax_1000]"
   ]
  },
  {
   "cell_type": "code",
   "execution_count": 35,
   "metadata": {},
   "outputs": [
    {
     "name": "stdout",
     "output_type": "stream",
     "text": [
      "Revenue :\n",
      "[14, 7, 8, 9, 8, 8, 11, 9, 10, 14, 10, 15]\n",
      "Expenses :\n",
      "[12, 5, 12, 12, 8, 0, 3, 5, 6, 16, 10, 3]\n",
      "Profit :\n",
      "[2, 1, -3, -2, 0, 7, 8, 3, 3, -2, 0, 11]\n",
      "Profit after tax :\n",
      "[1, 1, -2, -2, 0, 5, 5, 2, 2, -1, 0, 8]\n",
      "Profit margin :\n",
      "[12.11, 17.6, -30.14, -22.24, -5.21, 62.74, 49.99, 28.28, 22.6, -10.89, 4.31, 52.75]\n",
      "Good months :\n",
      "[True, False, False, False, False, True, True, True, True, False, False, True]\n",
      "Bad months :\n",
      "[False, True, True, True, True, False, False, False, False, True, True, False]\n",
      "Best month :\n",
      "[False, False, False, False, False, False, False, False, False, False, False, True]\n",
      "Worst month :\n",
      "[False, False, True, False, False, False, False, False, False, False, False, False]\n"
     ]
    }
   ],
   "source": [
    "#Printing Results\n",
    "print (\"Revenue :\") \n",
    "print (revenue_1000)\n",
    "print (\"Expenses :\") \n",
    "print (expenses_1000)\n",
    "print (\"Profit :\")\n",
    "print(profit_1000)\n",
    "print (\"Profit after tax :\")\n",
    "print (profit_after_tax_1000)\n",
    "print (\"Profit margin :\")\n",
    "print (profit_margin)\n",
    "print (\"Good months :\")\n",
    "print (good_months)\n",
    "print (\"Bad months :\")\n",
    "print (bad_months)\n",
    "print (\"Best month :\")\n",
    "print (best_months)\n",
    "print (\"Worst month :\")\n",
    "print (worst_months)\n"
   ]
  },
  {
   "cell_type": "code",
   "execution_count": null,
   "metadata": {},
   "outputs": [],
   "source": []
  }
 ],
 "metadata": {
  "kernelspec": {
   "display_name": "Python 3",
   "language": "python",
   "name": "python3"
  },
  "language_info": {
   "codemirror_mode": {
    "name": "ipython",
    "version": 3
   },
   "file_extension": ".py",
   "mimetype": "text/x-python",
   "name": "python",
   "nbconvert_exporter": "python",
   "pygments_lexer": "ipython3",
   "version": "3.7.6"
  }
 },
 "nbformat": 4,
 "nbformat_minor": 4
}
