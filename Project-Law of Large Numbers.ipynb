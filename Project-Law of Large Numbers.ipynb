{
 "cells": [
  {
   "cell_type": "markdown",
   "metadata": {},
   "source": [
    "# Udemy Course: Python A-Z¶\n",
    "## Section 2: Core Programming Principles\n",
    "### Project: Law of Large Numbers\n",
    "#### Python Programming A-Z™ © Kirill Eremenko https://www.superdatascience.com _ This notebook contains the homework from section 2 of the course\n",
    "\n",
    "#### Project:\n",
    "\n",
    "##### Test the Law Of Large Numbers for N random normally distributed numbers with mean = 0, stdev = 1: Create a Python script that will count how many of these numbers fall between -1 and 1 and divide by the total quantity of N\n",
    "\n",
    "##### You know that E(X) = 68.2%\n",
    "\n",
    "##### Check that Mean(XN) -> E(X) as you rerun your script while increasing N\n",
    "\n"
   ]
  },
  {
   "cell_type": "code",
   "execution_count": 2,
   "metadata": {},
   "outputs": [
    {
     "name": "stdout",
     "output_type": "stream",
     "text": [
      "0.72\n"
     ]
    }
   ],
   "source": [
    "import numpy as np\n",
    "from numpy.random import randn\n",
    "\n",
    "\n",
    "#want to check if random values falls between -1 and 1\n",
    "N = 100                         #sample size to generate first 100 random values\n",
    "counter = 0                     #resetting counter\n",
    "for i in randn(100):            #iterating over random values\n",
    "    if(i > -1 and i < 1):       #checks where iterated variables falls\n",
    "        counter = counter + 1   #increases counter if condition is met\n",
    "answer = counter / N            #calculate the hit-ratio\n",
    "print(answer)                   #print answer"
   ]
  },
  {
   "cell_type": "code",
   "execution_count": null,
   "metadata": {},
   "outputs": [],
   "source": []
  }
 ],
 "metadata": {
  "kernelspec": {
   "display_name": "Python 3",
   "language": "python",
   "name": "python3"
  },
  "language_info": {
   "codemirror_mode": {
    "name": "ipython",
    "version": 3
   },
   "file_extension": ".py",
   "mimetype": "text/x-python",
   "name": "python",
   "nbconvert_exporter": "python",
   "pygments_lexer": "ipython3",
   "version": "3.7.6"
  }
 },
 "nbformat": 4,
 "nbformat_minor": 4
}
